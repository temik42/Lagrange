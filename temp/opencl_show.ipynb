{
 "cells": [
  {
   "cell_type": "code",
   "execution_count": null,
   "metadata": {
    "collapsed": false
   },
   "outputs": [
    {
     "name": "stderr",
     "output_type": "stream",
     "text": [
      "C:\\Anaconda\\lib\\site-packages\\pyopencl-2016.2-py2.7-win-amd64.egg\\pyopencl\\__init__.py:208: CompilerWarning: Non-empty compiler output encountered. Set the environment variable PYOPENCL_COMPILER_OUTPUT=1 to see more.\n",
      "  \"to see more.\", CompilerWarning)\n"
     ]
    }
   ],
   "source": [
    "from window import *\n",
    "import rotB\n",
    "\n",
    "if __name__ == \"__main__\":\n",
    "    dim = (32,32,64)\n",
    "    \n",
    "    idx = np.indices(dim).astype(np.float32)  \n",
    "    X = np.zeros(dim+(4,), dtype = np.float32)\n",
    "    X[:,:,:,0] = idx[0,:,:,:] - dim[0]/2\n",
    "    X[:,:,:,1] = idx[1,:,:,:] - dim[1]/2\n",
    "    X[:,:,:,2] = idx[2,:,:,:] - dim[2]/2\n",
    "    X[:,:,:,3] = 1.\n",
    "\n",
    "    X1 = np.array(X)\n",
    "    ar = (dim[0]/4)**2\n",
    "    az = (dim[2]/4)**2\n",
    "    h = np.exp(-((X[:,:,:,0])**2 + (X[:,:,:,1])**2)/ar - X[:,:,:,2]**2/az)*np.pi*2\n",
    "\n",
    "\n",
    "    X[:,:,:,0] = ((X1[:,:,:,0])*np.cos(h) - (X1[:,:,:,1])*np.sin(h))#*(1.+np.cos(X[:,:,:,2]*np.pi/dim[2]))*0.5\n",
    "    X[:,:,:,1] = ((X1[:,:,:,0])*np.sin(h) + (X1[:,:,:,1])*np.cos(h))#*(1.+np.cos(X[:,:,:,2]*np.pi/dim[2]))*0.5\n",
    "                  #+ 16*np.cos(X[:,:,:,2]*np.pi/dim[2]))\n",
    "    \n",
    "    #X*= 0.015\n",
    "    #X[:,0,:,1] -= 0.9*h\n",
    "    \n",
    "    B = np.zeros(dim+(4,), dtype = np.float32)\n",
    "    B[:,:,:,2] = 1.\n",
    "    B[:,:,:,3] = 1.\n",
    "    #X*=0.01\n",
    "    \n",
    "    #X = (np.random.random(dim+(4,)).astype(np.float32) - 0.5)*0.3\n",
    "    \n",
    "    cle = rotB.Integrator(X, B, maxiter = 1e4)\n",
    "    cle.start()\n",
    "    \n",
    "\n",
    "    \n",
    "    window(cle, video_dir = '/video')\n"
   ]
  },
  {
   "cell_type": "code",
   "execution_count": 2,
   "metadata": {
    "collapsed": false
   },
   "outputs": [
    {
     "name": "stdout",
     "output_type": "stream",
     "text": [
      "[ 0.  0.  0.  0.]\n"
     ]
    },
    {
     "data": {
      "image/png": "[encoded data removed]",
      "text/plain": [
       "<matplotlib.figure.Figure at 0x145379b0>"
      ]
     },
     "metadata": {},
     "output_type": "display_data"
    }
   ],
   "source": [
    "import matplotlib.pyplot as plt\n",
    "%matplotlib inline\n",
    "plt.figure(figsize=(8,8))\n",
    "plt.imshow(cle._Current[:,:,20,1], interpolation = 'nearest')\n",
    "print cle._Current[14,14,20,:]"
   ]
  },
  {
   "cell_type": "code",
   "execution_count": null,
   "metadata": {
    "collapsed": true
   },
   "outputs": [],
   "source": []
  }
 ],
 "metadata": {
  "anaconda-cloud": {},
  "kernelspec": {
   "display_name": "Python 2",
   "language": "python",
   "name": "python2"
  },
  "language_info": {
   "codemirror_mode": {
    "name": "ipython",
    "version": 2
   },
   "file_extension": ".py",
   "mimetype": "text/x-python",
   "name": "python",
   "nbconvert_exporter": "python",
   "pygments_lexer": "ipython2",
   "version": "2.7.12"
  }
 },
 "nbformat": 4,
 "nbformat_minor": 0
}
