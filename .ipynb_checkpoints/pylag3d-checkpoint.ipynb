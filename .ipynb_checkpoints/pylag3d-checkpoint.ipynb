{
 "cells": [
  {
   "cell_type": "code",
   "execution_count": 1,
   "metadata": {
    "collapsed": false
   },
   "outputs": [
    {
     "name": "stderr",
     "output_type": "stream",
     "text": [
      "C:\\Anaconda\\lib\\site-packages\\pyopencl-2016.2-py2.7-win-amd64.egg\\pyopencl\\__init__.py:208: CompilerWarning: Non-empty compiler output encountered. Set the environment variable PYOPENCL_COMPILER_OUTPUT=1 to see more.\n",
      "  \"to see more.\", CompilerWarning)\n"
     ]
    }
   ],
   "source": [
    "%matplotlib inline\n",
    "from window import *\n",
    "import numpy as np\n",
    "import matplotlib.pyplot as plt\n",
    "import pylag3d as lg\n",
    "from scipy import misc\n",
    "import pyopencl as cl\n",
    "\n",
    "\n",
    "def update(self, time):\n",
    "    h = 0.5\n",
    "    d = 8.\n",
    "    tau = 32.\n",
    "\n",
    "    mask = 1./(1.+np.exp((np.abs(self.idx[0])-d)/h))/(1+np.exp((np.abs(self.idx[1])-d)/h))\n",
    "\n",
    "    #cl.enqueue_copy(self.queue, self._Fx, self.Fx)\n",
    "    \n",
    "    #self._Fx[:,:,0,2] = 0\n",
    "    #self._Fx[:,:,0,0] = mask*self.idx[1]*np.sin(self.time/tau*np.pi*2)/(tau/(2*np.pi))/d*0.5\n",
    "    #self._Fx[:,:,0,1] = -mask*self.idx[0]*np.cos(self.time/tau*np.pi*2)/(tau/(2*np.pi))/d*0.5\n",
    "    \n",
    "    slice = np.zeros(self.shape[:2] + (4,))\n",
    "    \n",
    "    #slice[:,:,2] = 0\n",
    "    slice[:,:,0] = mask*self.idx[1]*np.sin(self.time/tau*np.pi*2)/(tau/(2*np.pi))/d*0.1\n",
    "    slice[:,:,1] = -mask*self.idx[0]*np.cos(self.time/tau*np.pi*2)/(tau/(2*np.pi))/d*0.1\n",
    "    \n",
    "    \n",
    "    self.put(self.Fx,slice,28,2)\n",
    "    \n",
    "    #cl.enqueue_copy(self.queue, self.Fx, self._Fx)\n",
    "\n",
    "\n",
    "    \n",
    "    \n",
    "def output(self):\n",
    "    cl.enqueue_copy(self.queue, self._Fx, self.Fx)\n",
    "    #imsave('png/'+str(self.time)+'.png', self._Fx[:,self.shape[1]/2,:,2])\n",
    "    plt.figure(figsize = (16,16))\n",
    "    plt.subplot(311)\n",
    "    plt.title('Vx', size = 20)\n",
    "    plt.ylabel('X', size = 16)\n",
    "    #plt.xlabel('Z', size = 16)\n",
    "    plt.imshow(self._Fx[:,self.shape[1]/2,:,0], interpolation = 'nearest')\n",
    "    plt.subplot(312)\n",
    "    plt.title('Vy', size = 20)\n",
    "    plt.ylabel('X', size = 16)\n",
    "    #plt.xlabel('Z', size = 16)\n",
    "    plt.imshow(self._Fx[:,self.shape[1]/2,:,1], interpolation = 'nearest')\n",
    "    plt.subplot(313)\n",
    "    plt.title('Vz', size = 20)\n",
    "    plt.ylabel('X', size = 16)\n",
    "    plt.xlabel('Z', size = 16)\n",
    "    plt.imshow(self._Fx[:,self.shape[1]/2,:,2], interpolation = 'nearest')\n",
    "    plt.savefig('png/'+('00'+str(int(np.round(self.time))))[-3:]+'.png')\n",
    "\n",
    "\n",
    "    plt.close()\n",
    "\n",
    "if __name__ == \"__main__\":\n",
    "    dim = (32,32,32)\n",
    "    \n",
    "    idx = np.indices(dim).astype(np.float32)  \n",
    "    X = np.zeros(dim+(4,), dtype = np.float32)\n",
    "    #X[:,:,:,0] = idx[0,:,:,:] - dim[0]/2 + 0.5\n",
    "    #X[:,:,:,1] = idx[1,:,:,:] - dim[1]/2 + 0.5\n",
    "    #X[:,:,:,2] = idx[2,:,:,:] - dim[2]/2 + 0.5\n",
    "    X[:,:,:,3] = 1.\n",
    "    \n",
    "    X1 = np.array(X)\n",
    "    ar = (dim[0]-1)\n",
    "    az = (8)**2\n",
    "    ah = (dim[2]-3)\n",
    "    h = np.exp(-((X[:,:,:,0])**2 + (X[:,:,:,1])**2)/ar)*np.cos((X[:,:,:,2])/ah*np.pi)*np.pi/8\n",
    "\n",
    "    #X[:,:,:,0] += np.cos((X[:,:,:,2])/ah*np.pi)*0.5\n",
    "    #X[:,:,:,0] = ((X1[:,:,:,0])*np.cos(h) - (X1[:,:,:,1])*np.sin(h))\n",
    "    #X[:,:,:,1] = ((X1[:,:,:,0])*np.sin(h) + (X1[:,:,:,1])*np.cos(h))\n",
    "    \n",
    "    \n",
    "    #X[dim[0]/2-1,dim[1]/2-1,:,0] += np.cos(X[dim[0]/2-1,dim[1]/2-1,:,2]/ah*np.pi)*0.5\n",
    "    \n",
    "    \n",
    "    \n",
    "    V = np.zeros(dim+(4,), dtype = np.float32)\n",
    "    V[:,:,:,3] = 1.\n",
    "    \n",
    "    T = np.ones(dim, dtype = np.float32)\n",
    "    B = np.ones(dim, dtype = np.float32)\n",
    "    #B = np.zeros(dim+(4,), dtype = np.float32)\n",
    "    #B[:,:,:,0] = np.sin(X[:,:,:,2]/ah*np.pi*2)*0.01\n",
    "    #B[:,:,:,2] = 1.# + np.cos(X[:,:,:,0]/ah*np.pi)*np.cos(X[:,:,:,1]/ah*np.pi)*np.cos(X[:,:,:,2]/ah*np.pi)*0.5\n",
    "    #B[:,:,:,3] = 1.\n",
    "    \n",
    "    #boundary = ['','','mirror']\n",
    "    #boundary = ['fixed','fixed','fixed']\n",
    "    boundary = [('zero','zero'),('zero','zero'),('uniform','uniform'),]\n",
    "    \n",
    "\n",
    "\n",
    "    \n",
    "    lge = lg.Lg(B, T = T, maxiter = 128*10, boundary = boundary, update = update, repeat = (10,output))\n",
    "    lge.start()\n",
    "    \n",
    "    #window(lge)"
   ]
  },
  {
   "cell_type": "code",
   "execution_count": 2,
   "metadata": {
    "collapsed": false
   },
   "outputs": [
    {
     "name": "stdout",
     "output_type": "stream",
     "text": [
      "0.6\n"
     ]
    },
    {
     "data": {
      "image/png": "[encoded data removed]",
      "text/plain": [
       "<matplotlib.figure.Figure at 0x4077ba8>"
      ]
     },
     "metadata": {},
     "output_type": "display_data"
    }
   ],
   "source": [
    "fig = plt.figure(figsize = (16,16))\n",
    "plt.subplot(311)\n",
    "plt.imshow(lge._Fx[:,:,dim[2]/2,0], interpolation = 'nearest')\n",
    "plt.subplot(312)\n",
    "plt.imshow(lge._Fx[:,:,dim[2]/2,1], interpolation = 'nearest')\n",
    "plt.subplot(313)\n",
    "plt.imshow(lge._Fx[:,:,dim[2]/2,2], interpolation = 'nearest')\n",
    "\n",
    "print lge.time"
   ]
  },
  {
   "cell_type": "code",
   "execution_count": 7,
   "metadata": {
    "collapsed": false
   },
   "outputs": [
    {
     "data": {
      "text/plain": [
       "0.010352209"
      ]
     },
     "execution_count": 7,
     "metadata": {},
     "output_type": "execute_result"
    }
   ],
   "source": [
    "np.max(lge._Fx[:,lge.shape[1]/2,:,1])"
   ]
  },
  {
   "cell_type": "code",
   "execution_count": 14,
   "metadata": {
    "collapsed": false
   },
   "outputs": [
    {
     "data": {
      "text/plain": [
       "(1280L, 1280L, 4L)"
      ]
     },
     "execution_count": 14,
     "metadata": {},
     "output_type": "execute_result"
    }
   ],
   "source": [
    "buf.shape"
   ]
  },
  {
   "cell_type": "code",
   "execution_count": 8,
   "metadata": {
    "collapsed": false
   },
   "outputs": [
    {
     "data": {
      "text/plain": [
       "[<matplotlib.lines.Line2D at 0x20707b00>]"
      ]
     },
     "execution_count": 8,
     "metadata": {},
     "output_type": "execute_result"
    },
    {
     "data": {
      "image/png": "[encoded data removed]",
      "text/plain": [
       "<matplotlib.figure.Figure at 0x26f33ba8>"
      ]
     },
     "metadata": {},
     "output_type": "display_data"
    }
   ],
   "source": [
    "plt.plot(lge._Fx[dim[0]/2,dim[1]/2,:,2])"
   ]
  },
  {
   "cell_type": "code",
   "execution_count": 3,
   "metadata": {
    "collapsed": false
   },
   "outputs": [
    {
     "data": {
      "text/plain": [
       "array([ 0.        , -0.0681828 , -0.07253772, -0.06341142, -0.0545697 ,\n",
       "       -0.04826811, -0.04373778, -0.04029816, -0.03756838, -0.03533139,\n",
       "       -0.03345371, -0.03184785, -0.03045375, -0.02922851, -0.02814052,\n",
       "       -0.02716573, -0.02628592, -0.02548645, -0.02475582, -0.02408474,\n",
       "       -0.02346543, -0.02289051, -0.02234676, -0.02177397, -0.02091062,\n",
       "       -0.01904149, -0.01550419, -0.01165599, -0.00893996, -0.00573631,\n",
       "       -0.00285727,  0.        ], dtype=float32)"
      ]
     },
     "execution_count": 3,
     "metadata": {},
     "output_type": "execute_result"
    },
    {
     "data": {
      "image/png": "[encoded data removed]",
      "text/plain": [
       "<matplotlib.figure.Figure at 0x227ead30>"
      ]
     },
     "metadata": {},
     "output_type": "display_data"
    }
   ],
   "source": [
    "lge._Fx[:,10,dim[2]/2,0]"
   ]
  },
  {
   "cell_type": "code",
   "execution_count": 5,
   "metadata": {
    "collapsed": false
   },
   "outputs": [
    {
     "data": {
      "text/plain": [
       "28.583333333333332"
      ]
     },
     "execution_count": 5,
     "metadata": {},
     "output_type": "execute_result"
    }
   ],
   "source": [
    "import numpy as np\n",
    "\n",
    "10.5*294./108"
   ]
  },
  {
   "cell_type": "code",
   "execution_count": 4,
   "metadata": {
    "collapsed": false
   },
   "outputs": [],
   "source": [
    "?plt.title"
   ]
  },
  {
   "cell_type": "code",
   "execution_count": 11,
   "metadata": {
    "collapsed": false
   },
   "outputs": [
    {
     "data": {
      "text/plain": [
       "'001'"
      ]
     },
     "execution_count": 11,
     "metadata": {},
     "output_type": "execute_result"
    }
   ],
   "source": [
    "\n",
    "('00'+str('1'))[-3:]"
   ]
  },
  {
   "cell_type": "code",
   "execution_count": 1,
   "metadata": {
    "collapsed": false
   },
   "outputs": [
    {
     "data": {
      "text/plain": [
       "0"
      ]
     },
     "execution_count": 1,
     "metadata": {},
     "output_type": "execute_result"
    }
   ],
   "source": [
    "import numpy as np\n",
    "np.uint32(0)"
   ]
  },
  {
   "cell_type": "code",
   "execution_count": 15,
   "metadata": {
    "collapsed": false
   },
   "outputs": [],
   "source": [
    "a = np.ones((10,10))"
   ]
  },
  {
   "cell_type": "code",
   "execution_count": 16,
   "metadata": {
    "collapsed": false
   },
   "outputs": [],
   "source": [
    "a[:] = 0"
   ]
  },
  {
   "cell_type": "code",
   "execution_count": 17,
   "metadata": {
    "collapsed": false
   },
   "outputs": [
    {
     "data": {
      "text/plain": [
       "array([[ 0.,  0.,  0.,  0.,  0.,  0.,  0.,  0.,  0.,  0.],\n",
       "       [ 0.,  0.,  0.,  0.,  0.,  0.,  0.,  0.,  0.,  0.],\n",
       "       [ 0.,  0.,  0.,  0.,  0.,  0.,  0.,  0.,  0.,  0.],\n",
       "       [ 0.,  0.,  0.,  0.,  0.,  0.,  0.,  0.,  0.,  0.],\n",
       "       [ 0.,  0.,  0.,  0.,  0.,  0.,  0.,  0.,  0.,  0.],\n",
       "       [ 0.,  0.,  0.,  0.,  0.,  0.,  0.,  0.,  0.,  0.],\n",
       "       [ 0.,  0.,  0.,  0.,  0.,  0.,  0.,  0.,  0.,  0.],\n",
       "       [ 0.,  0.,  0.,  0.,  0.,  0.,  0.,  0.,  0.,  0.],\n",
       "       [ 0.,  0.,  0.,  0.,  0.,  0.,  0.,  0.,  0.,  0.],\n",
       "       [ 0.,  0.,  0.,  0.,  0.,  0.,  0.,  0.,  0.,  0.]])"
      ]
     },
     "execution_count": 17,
     "metadata": {},
     "output_type": "execute_result"
    }
   ],
   "source": [
    "a"
   ]
  },
  {
   "cell_type": "code",
   "execution_count": null,
   "metadata": {
    "collapsed": true
   },
   "outputs": [],
   "source": []
  }
 ],
 "metadata": {
  "anaconda-cloud": {},
  "kernelspec": {
   "display_name": "Python 2",
   "language": "python",
   "name": "python2"
  },
  "language_info": {
   "codemirror_mode": {
    "name": "ipython",
    "version": 2
   },
   "file_extension": ".py",
   "mimetype": "text/x-python",
   "name": "python",
   "nbconvert_exporter": "python",
   "pygments_lexer": "ipython2",
   "version": "2.7.12"
  },
  "nbpresent": {
   "slides": {
    "c46ca531-438f-43f3-98d7-f1018d89904b": {
     "id": "c46ca531-438f-43f3-98d7-f1018d89904b",
     "prev": null,
     "regions": {
      "8c5912bb-156b-4198-aef2-70e34cc07018": {
       "attrs": {
        "height": 1,
        "width": 1,
        "x": 0,
        "y": 0
       },
       "content": {
        "cell": "e4249962-8484-4c19-8fa9-837805a6b640",
        "part": "outputs"
       },
       "id": "8c5912bb-156b-4198-aef2-70e34cc07018"
      }
     }
    }
   },
   "themes": {}
  }
 },
 "nbformat": 4,
 "nbformat_minor": 0
}
