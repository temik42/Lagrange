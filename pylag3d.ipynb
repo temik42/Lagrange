{
 "cells": [
  {
   "cell_type": "code",
   "execution_count": null,
   "metadata": {
    "collapsed": false
   },
   "outputs": [
    {
     "name": "stderr",
     "output_type": "stream",
     "text": [
      "C:\\Anaconda\\lib\\site-packages\\pyopencl-2016.2-py2.7-win-amd64.egg\\pyopencl\\__init__.py:208: CompilerWarning: Non-empty compiler output encountered. Set the environment variable PYOPENCL_COMPILER_OUTPUT=1 to see more.\n",
      "  \"to see more.\", CompilerWarning)\n"
     ]
    }
   ],
   "source": [
    "%matplotlib inline\n",
    "from window import *\n",
    "import numpy as np\n",
    "import matplotlib.pyplot as plt\n",
    "import pylag3d as lg\n",
    "from scipy.misc import imsave\n",
    "\n",
    "def update(self, time):\n",
    "    idx = np.indices((self.shape[0],self.shape[1]))\n",
    "    d = 16.\n",
    "    tau = 64.\n",
    "    idx[0] = idx[0] - self.shape[0]/2\n",
    "    idx[1] = idx[1] - self.shape[1]/2\n",
    "    #mask = np.exp(-(idx[0]**2 + idx[1]**2)/2/d**2)\n",
    "    mask = 1./(1.+np.exp((np.abs(idx[0])-d)/0.1))/(1+np.exp((np.abs(idx[1])-d)/0.1))\n",
    "\n",
    "    self._Fx[:,:,0,2] = 0\n",
    "    self._Fx[:,:,0,0] = mask*idx[1]*np.sin(self.time/tau*np.pi*2)/(tau/(2*np.pi))/d*0.5\n",
    "    self._Fx[:,:,0,1] = -mask*idx[0]*np.sin(self.time/tau*np.pi*2)/(tau/(2*np.pi))/d*0.5\n",
    "    \n",
    "    #self._Fx[:,:,0,0] = 0\n",
    "    #self._Fx[:,:,0,1] = 0\n",
    "    #self._Fx[:,:,0,2] = np.sin(time/128.*np.pi*2)/(128/(2*np.pi))*0.1\n",
    "    \n",
    "    #self._Fx[:,:,0,0] = np.sin(time/128.*np.pi*2)/(128/(2*np.pi))*0.01\n",
    "    #self._Fx[:,:,0,1] = 0\n",
    "    #self._Fx[:,:,0,2] = 0\n",
    "    \n",
    "def output(self):\n",
    "    #imsave('png/'+str(self.time)+'.png', self._Fx[:,self.shape[1]/2,:,2])\n",
    "    plt.figure(figsize = (16,16))\n",
    "    plt.subplot(311)\n",
    "    plt.imshow(self._Fx[:,self.shape[1]/2,:,0], interpolation = 'nearest')\n",
    "    plt.subplot(312)\n",
    "    plt.imshow(self._Fx[:,self.shape[1]/2,:,1], interpolation = 'nearest')\n",
    "    plt.subplot(313)\n",
    "    plt.imshow(self._Fx[:,self.shape[1]/2,:,2], interpolation = 'nearest')\n",
    "    plt.savefig('png/'+str(int(np.round(self.time)))+'.png')\n",
    "    plt.close()\n",
    "\n",
    "if __name__ == \"__main__\":\n",
    "    dim = (16,16,16)\n",
    "    \n",
    "    idx = np.indices(dim).astype(np.float32)  \n",
    "    X = np.zeros(dim+(4,), dtype = np.float32)\n",
    "    #X[:,:,:,0] = idx[0,:,:,:] - dim[0]/2 + 0.5\n",
    "    #X[:,:,:,1] = idx[1,:,:,:] - dim[1]/2 + 0.5\n",
    "    #X[:,:,:,2] = idx[2,:,:,:] - dim[2]/2 + 0.5\n",
    "    X[:,:,:,3] = 1.\n",
    "    \n",
    "    X1 = np.array(X)\n",
    "    ar = (dim[0]-1)\n",
    "    az = (8)**2\n",
    "    ah = (dim[2]-3)\n",
    "    #h = np.exp(-((X[:,:,:,0])**2 + (X[:,:,:,1])**2)/ar)*np.cos((X[:,:,:,2])/ah*np.pi)*np.pi/8\n",
    "\n",
    "    #X[:,:,:,0] += np.cos((X[:,:,:,2])/ah*np.pi)*0.5\n",
    "    #X[:,:,:,0] = ((X1[:,:,:,0])*np.cos(h) - (X1[:,:,:,1])*np.sin(h))\n",
    "    #X[:,:,:,1] = ((X1[:,:,:,0])*np.sin(h) + (X1[:,:,:,1])*np.cos(h))\n",
    "    \n",
    "    \n",
    "    #X[dim[0]/2-1,dim[1]/2-1,:,0] += np.cos(X[dim[0]/2-1,dim[1]/2-1,:,2]/ah*np.pi)*0.5\n",
    "    \n",
    "    \n",
    "    \n",
    "    V = np.zeros(dim+(4,), dtype = np.float32)\n",
    "    V[:,:,:,3] = 1.\n",
    "    \n",
    "    B = np.zeros(dim+(4,), dtype = np.float32)\n",
    "    #B[:,:,:,0] = np.sin(X[:,:,:,2]/ah*np.pi*2)*0.01\n",
    "    B[:,:,:,2] = 1.# + np.cos(X[:,:,:,0]/ah*np.pi)*np.cos(X[:,:,:,1]/ah*np.pi)*np.cos(X[:,:,:,2]/ah*np.pi)*0.5\n",
    "    B[:,:,:,3] = 1.\n",
    "    \n",
    "    #boundary = ['uniform','uniform','mirror']\n",
    "    boundary = ['fixed','fixed','fixed']\n",
    "    \n",
    "    lge = lg.Lg(B, maxiter = 128*2*10, boundary = boundary, update = update)\n",
    "    lge.start()\n",
    "    \n",
    "    #window(lge)"
   ]
  },
  {
   "cell_type": "code",
   "execution_count": 4,
   "metadata": {
    "collapsed": false,
    "scrolled": true
   },
   "outputs": [
    {
     "name": "stdout",
     "output_type": "stream",
     "text": [
      "7.3\n"
     ]
    },
    {
     "data": {
      "image/png": "[encoded data removed]",
      "text/plain": [
       "<matplotlib.figure.Figure at 0x240be7f0>"
      ]
     },
     "metadata": {},
     "output_type": "display_data"
    }
   ],
   "source": [
    "plt.figure(figsize = (16,16))\n",
    "plt.subplot(311)\n",
    "plt.imshow(lge._Fx[:,dim[1]/2,:,0], interpolation = 'nearest')\n",
    "plt.subplot(312)\n",
    "plt.imshow(lge._Fx[:,dim[1]/2,:,1], interpolation = 'nearest')\n",
    "plt.subplot(313)\n",
    "plt.imshow(lge._Fx[:,dim[1]/2,:,2], interpolation = 'nearest')\n",
    "plt.savefig('q.png')\n",
    "\n",
    "print lge.time"
   ]
  },
  {
   "cell_type": "code",
   "execution_count": 8,
   "metadata": {
    "collapsed": false
   },
   "outputs": [
    {
     "data": {
      "text/plain": [
       "153.6"
      ]
     },
     "execution_count": 8,
     "metadata": {},
     "output_type": "execute_result"
    }
   ],
   "source": [
    "1024.*9/60"
   ]
  }
 ],
 "metadata": {
  "anaconda-cloud": {},
  "kernelspec": {
   "display_name": "Python 2",
   "language": "python",
   "name": "python2"
  },
  "language_info": {
   "codemirror_mode": {
    "name": "ipython",
    "version": 2
   },
   "file_extension": ".py",
   "mimetype": "text/x-python",
   "name": "python",
   "nbconvert_exporter": "python",
   "pygments_lexer": "ipython2",
   "version": "2.7.12"
  },
  "nbpresent": {
   "slides": {
    "c46ca531-438f-43f3-98d7-f1018d89904b": {
     "id": "c46ca531-438f-43f3-98d7-f1018d89904b",
     "prev": null,
     "regions": {
      "8c5912bb-156b-4198-aef2-70e34cc07018": {
       "attrs": {
        "height": 1,
        "width": 1,
        "x": 0,
        "y": 0
       },
       "content": {
        "cell": "e4249962-8484-4c19-8fa9-837805a6b640",
        "part": "outputs"
       },
       "id": "8c5912bb-156b-4198-aef2-70e34cc07018"
      }
     }
    }
   },
   "themes": {}
  }
 },
 "nbformat": 4,
 "nbformat_minor": 0
}
