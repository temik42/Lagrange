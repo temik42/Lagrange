{
 "cells": [
  {
   "cell_type": "code",
   "execution_count": 1,
   "metadata": {
    "collapsed": false
   },
   "outputs": [
    {
     "name": "stderr",
     "output_type": "stream",
     "text": [
      "C:\\Anaconda\\lib\\site-packages\\pyopencl-2016.2-py2.7-win-amd64.egg\\pyopencl\\__init__.py:208: CompilerWarning: Non-empty compiler output encountered. Set the environment variable PYOPENCL_COMPILER_OUTPUT=1 to see more.\n",
      "  \"to see more.\", CompilerWarning)\n"
     ]
    }
   ],
   "source": [
    "%matplotlib inline\n",
    "from window import *\n",
    "import numpy as np\n",
    "import matplotlib.pyplot as plt\n",
    "import pylag3d as lg\n",
    "from scipy import misc\n",
    "import pyopencl as cl\n",
    "\n",
    "\n",
    "def update(self, time):\n",
    "    h = 0.5\n",
    "    d = 8.\n",
    "    tau = 16.\n",
    "\n",
    "    mask = 1./(1.+np.exp((np.abs(self.idx[0])-d)/h))/(1+np.exp((np.abs(self.idx[1])-d)/h))\n",
    "\n",
    "    slice = np.zeros(self.shape[:2] + (4,))\n",
    "    \n",
    "    slice[:,:,0] = mask*self.idx[1]*np.sin(self.time/tau*np.pi*2)/(tau/(2*np.pi))/d*0.01\n",
    "    slice[:,:,1] = -mask*self.idx[0]*np.cos(self.time/tau*np.pi*2)/(tau/(2*np.pi))/d*0.01\n",
    "    \n",
    "    self.put(self.Vtemp,slice,0,2)\n",
    "    \n",
    "\n",
    "\n",
    "    \n",
    "    \n",
    "def output(self):\n",
    "    cl.enqueue_copy(self.queue, self._V, self.V)\n",
    "    #imsave('png/'+str(self.time)+'.png', self._Fx[:,self.shape[1]/2,:,2])\n",
    "    plt.figure(figsize = (16,16))\n",
    "    plt.subplot(311)\n",
    "    plt.title('Vx', size = 20)\n",
    "    plt.ylabel('X', size = 16)\n",
    "    #plt.xlabel('Z', size = 16)\n",
    "    plt.imshow(self._V[:,self.shape[1]/2,:,0], interpolation = 'nearest')\n",
    "    plt.subplot(312)\n",
    "    plt.title('Vy', size = 20)\n",
    "    plt.ylabel('X', size = 16)\n",
    "    #plt.xlabel('Z', size = 16)\n",
    "    plt.imshow(self._V[:,self.shape[1]/2,:,1], interpolation = 'nearest')\n",
    "    plt.subplot(313)\n",
    "    plt.title('Vz', size = 20)\n",
    "    plt.ylabel('X', size = 16)\n",
    "    plt.xlabel('Z', size = 16)\n",
    "    plt.imshow(self._V[:,self.shape[1]/2,:,2], interpolation = 'nearest')\n",
    "    plt.savefig('png/'+('00'+str(int(np.round(self.time))))[-3:]+'.png')\n",
    "\n",
    "\n",
    "    plt.close()\n",
    "\n",
    "if __name__ == \"__main__\":\n",
    "    dim = (32,32,64)    \n",
    "\n",
    "    T = np.ones(dim, dtype = np.float32)\n",
    "    B = np.ones(dim, dtype = np.float32)\n",
    "\n",
    "    boundary = [('zero','zero'),('zero','zero'),('uniform','mirror'),]\n",
    "\n",
    "    lge = lg.Lg(B, T = T, maxiter = 128*10, boundary = boundary, update = update, repeat = (10,output))\n",
    "    lge.start()\n",
    "    \n",
    "    #window(lge)"
   ]
  },
  {
   "cell_type": "code",
   "execution_count": null,
   "metadata": {
    "collapsed": true
   },
   "outputs": [],
   "source": []
  }
 ],
 "metadata": {
  "anaconda-cloud": {},
  "kernelspec": {
   "display_name": "Python 2",
   "language": "python",
   "name": "python2"
  },
  "language_info": {
   "codemirror_mode": {
    "name": "ipython",
    "version": 2
   },
   "file_extension": ".py",
   "mimetype": "text/x-python",
   "name": "python",
   "nbconvert_exporter": "python",
   "pygments_lexer": "ipython2",
   "version": "2.7.12"
  },
  "nbpresent": {
   "slides": {
    "c46ca531-438f-43f3-98d7-f1018d89904b": {
     "id": "c46ca531-438f-43f3-98d7-f1018d89904b",
     "prev": null,
     "regions": {
      "8c5912bb-156b-4198-aef2-70e34cc07018": {
       "attrs": {
        "height": 1,
        "width": 1,
        "x": 0,
        "y": 0
       },
       "content": {
        "cell": "e4249962-8484-4c19-8fa9-837805a6b640",
        "part": "outputs"
       },
       "id": "8c5912bb-156b-4198-aef2-70e34cc07018"
      }
     }
    }
   },
   "themes": {}
  }
 },
 "nbformat": 4,
 "nbformat_minor": 0
}
